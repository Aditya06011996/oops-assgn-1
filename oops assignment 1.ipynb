{
 "cells": [
  {
   "cell_type": "markdown",
   "id": "b49a2633-ec30-43c6-a6ba-05630cdcb153",
   "metadata": {},
   "source": [
    "Q 1 Explain class and Object with respect to Object Oriented programming.Give a suitable example."
   ]
  },
  {
   "cell_type": "markdown",
   "id": "b5daa066-2699-49ab-8a31-e02e02d17590",
   "metadata": {},
   "source": [
    "Class - These are user defined data types that act as the blueprint for individual objects , attributes and methods.\n",
    "\n",
    "Objects- These are instances of a class created with specifically defined data. Object can correspond to real world objects or an abstract entity."
   ]
  },
  {
   "cell_type": "markdown",
   "id": "0b1254c2-1e21-4559-a6fa-56687421b6c9",
   "metadata": {},
   "source": [
    "Q 2 Name the four pillars of OOPS."
   ]
  },
  {
   "cell_type": "markdown",
   "id": "d5a59a85-02b2-46ef-9574-2ef5dc68db55",
   "metadata": {},
   "source": [
    "Ans - 1.Data Abstraction\n",
    "\n",
    "      2.Encapsulation\n",
    "\n",
    "      3.Inheritance \n",
    "\n",
    "      4.Polymorphism"
   ]
  },
  {
   "cell_type": "markdown",
   "id": "5604c811-0691-49d6-9c80-f9418ff67585",
   "metadata": {},
   "source": [
    "Q 3 Explain why the __init__() func is used. Give a suitable example"
   ]
  },
  {
   "cell_type": "markdown",
   "id": "82474188-cb56-4015-98aa-b7402da93a61",
   "metadata": {},
   "source": [
    "Ans - __init__ is a special python method that runs whenever a new object is created.These types of functions are used to initialize the attributes of that class."
   ]
  },
  {
   "cell_type": "code",
   "execution_count": 2,
   "id": "2a2e11b3-4235-4813-bd3e-602af52a185c",
   "metadata": {},
   "outputs": [],
   "source": [
    "class pwskills1() :\n",
    "    \n",
    "    def __init__(self , phone_number , email , student_id ):\n",
    "        self.phone_number = phone_number\n",
    "        self.email = email\n",
    "        self.student_id = student_id\n",
    "        \n",
    "    def return_student_details(self):\n",
    "        return self.phone_number , self.email , self.student_id\n",
    "        \n",
    "    "
   ]
  },
  {
   "cell_type": "markdown",
   "id": "3bdd9500-b49d-43d1-baab-23de99a07934",
   "metadata": {},
   "source": [
    "Q 4 Why self is used in OOPS?"
   ]
  },
  {
   "cell_type": "markdown",
   "id": "b964b09d-1fca-46f4-8622-56cc92cc7abf",
   "metadata": {},
   "source": [
    "Ans - The self variable is used to represent the instance of the class which is often used in object oriented programming. It works as a refrence to the object."
   ]
  },
  {
   "cell_type": "markdown",
   "id": "91667717-9d2c-4794-8611-264e74486786",
   "metadata": {},
   "source": [
    "Q 5 What is Inheritance ? Give an Example for each type of inheritance."
   ]
  },
  {
   "cell_type": "markdown",
   "id": "28d9a76d-7767-46c2-b995-a0ee55d6f8f8",
   "metadata": {},
   "source": [
    "Ans - When a class derives from another class is called inheritance. The child class will inherit all the public and protected properties and methods from the parent class. It can have its own properties and methods."
   ]
  },
  {
   "cell_type": "markdown",
   "id": "b5e86e9d-c012-410a-b976-56fc3823fe25",
   "metadata": {},
   "source": [
    "1.Single inheritance \n",
    "\n",
    "2.Multiple inheritance\n",
    "\n",
    "3.Multilevel inheritance\n",
    "\n",
    "4.Hierarchial inheritance\n",
    "\n",
    "5.Hybrid inheritance"
   ]
  },
  {
   "cell_type": "code",
   "execution_count": null,
   "id": "bc7c5b0f-f34e-4eb8-8a18-f9490af00fae",
   "metadata": {},
   "outputs": [],
   "source": []
  }
 ],
 "metadata": {
  "kernelspec": {
   "display_name": "Python 3 (ipykernel)",
   "language": "python",
   "name": "python3"
  },
  "language_info": {
   "codemirror_mode": {
    "name": "ipython",
    "version": 3
   },
   "file_extension": ".py",
   "mimetype": "text/x-python",
   "name": "python",
   "nbconvert_exporter": "python",
   "pygments_lexer": "ipython3",
   "version": "3.10.8"
  }
 },
 "nbformat": 4,
 "nbformat_minor": 5
}
